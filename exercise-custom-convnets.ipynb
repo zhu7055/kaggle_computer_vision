{
 "cells": [
  {
   "cell_type": "markdown",
   "metadata": {},
   "source": [
    "**This notebook is an exercise in the [Computer Vision](https://www.kaggle.com/learn/computer-vision) course.  You can reference the tutorial at [this link](https://www.kaggle.com/ryanholbrook/custom-convnets).**\n",
    "\n",
    "---\n"
   ]
  },
  {
   "cell_type": "markdown",
   "metadata": {},
   "source": [
    "# Introduction #\n",
    "\n",
    "In these exercises, you'll build a custom convnet with performance competitive to the VGG16 model from Lesson 1.\n",
    "\n",
    "Get started by running the code cell below."
   ]
  },
  {
   "cell_type": "code",
   "execution_count": null,
   "metadata": {
    "execution": {
     "iopub.execute_input": "2025-06-20T02:54:55.602485Z",
     "iopub.status.busy": "2025-06-20T02:54:55.602293Z",
     "iopub.status.idle": "2025-06-20T02:55:20.563249Z",
     "shell.execute_reply": "2025-06-20T02:55:20.562321Z",
     "shell.execute_reply.started": "2025-06-20T02:54:55.602466Z"
    },
    "trusted": true
   },
   "outputs": [
    {
     "name": "stderr",
     "output_type": "stream",
     "text": [
      "2025-06-20 02:54:58.244395: E external/local_xla/xla/stream_executor/cuda/cuda_dnn.cc:9261] Unable to register cuDNN factory: Attempting to register factory for plugin cuDNN when one has already been registered\n",
      "2025-06-20 02:54:58.244512: E external/local_xla/xla/stream_executor/cuda/cuda_fft.cc:607] Unable to register cuFFT factory: Attempting to register factory for plugin cuFFT when one has already been registered\n",
      "2025-06-20 02:54:58.369970: E external/local_xla/xla/stream_executor/cuda/cuda_blas.cc:1515] Unable to register cuBLAS factory: Attempting to register factory for plugin cuBLAS when one has already been registered\n"
     ]
    },
    {
     "name": "stdout",
     "output_type": "stream",
     "text": [
      "Found 5117 files belonging to 2 classes.\n",
      "Found 5051 files belonging to 2 classes.\n"
     ]
    }
   ],
   "source": [
    "# 設定環境\n",
    "from learntools.core import binder\n",
    "binder.bind(globals())\n",
    "from learntools.computer_vision.ex5 import *\n",
    "\n",
    "# Imports\n",
    "import os, warnings\n",
    "import matplotlib.pyplot as plt\n",
    "from matplotlib import gridspec\n",
    "\n",
    "import numpy as np\n",
    "import tensorflow as tf\n",
    "from tensorflow.keras.preprocessing import image_dataset_from_directory\n",
    "\n",
    "# 可重複性\n",
    "def set_seed(seed=31415):\n",
    "    np.random.seed(seed)\n",
    "    tf.random.set_seed(seed)\n",
    "    os.environ['PYTHONHASHSEED'] = str(seed)\n",
    "    os.environ['TF_DETERMINISTIC_OPS'] = '1'\n",
    "set_seed()\n",
    "\n",
    "# 設定 Matplotlib 預設值\n",
    "plt.rc('figure', autolayout=True)\n",
    "plt.rc('axes', labelweight='bold', labelsize='large',\n",
    "       titleweight='bold', titlesize=18, titlepad=10)\n",
    "plt.rc('image', cmap='magma')\n",
    "warnings.filterwarnings(\"ignore\") # to clean up output cells\n",
    "\n",
    "\n",
    "# Load training and validation sets (載入訓練和驗證集)\n",
    "ds_train_ = image_dataset_from_directory(\n",
    "    '../input/car-or-truck/train',\n",
    "    labels='inferred',\n",
    "    label_mode='binary',\n",
    "    image_size=[128, 128],\n",
    "    interpolation='nearest',\n",
    "    batch_size=64,\n",
    "    shuffle=True,\n",
    ")\n",
    "ds_valid_ = image_dataset_from_directory(\n",
    "    '../input/car-or-truck/valid',\n",
    "    labels='inferred',\n",
    "    label_mode='binary',\n",
    "    image_size=[128, 128],\n",
    "    interpolation='nearest',\n",
    "    batch_size=64,\n",
    "    shuffle=False,\n",
    ")\n",
    "\n",
    "# Data Pipeline (數據管道)\n",
    "def convert_to_float(image, label):\n",
    "    image = tf.image.convert_image_dtype(image, dtype=tf.float32)\n",
    "    return image, label\n",
    "\n",
    "AUTOTUNE = tf.data.experimental.AUTOTUNE\n",
    "ds_train = (\n",
    "    ds_train_\n",
    "    .map(convert_to_float)\n",
    "    .cache()\n",
    "    .prefetch(buffer_size=AUTOTUNE)\n",
    ")\n",
    "ds_valid = (\n",
    "    ds_valid_\n",
    "    .map(convert_to_float)\n",
    "    .cache()\n",
    "    .prefetch(buffer_size=AUTOTUNE)\n",
    ")\n"
   ]
  },
  {
   "cell_type": "markdown",
   "metadata": {},
   "source": [
    "# Design a Convnet #\n",
    "\n",
    "Let's design a convolutional network with a block architecture like we saw in the tutorial. The model from the example had three blocks, each with a single convolutional layer. Its performance on the \"Car or Truck\" problem was okay, but far from what the pretrained VGG16 could achieve. It might be that our simple network lacks the ability to extract sufficiently complex features. We could try improving the model either by adding more blocks or by adding convolutions to the blocks we have.\n",
    "\n",
    "Let's go with the second approach. We'll keep the three block structure, but increase the number of `Conv2D` layer in the second block to two, and in the third block to three.\n",
    "\n",
    "<figure>\n",
    "<!-- <img src=\"./images/2-convmodel-2.png\" width=\"250\" alt=\"Diagram of a convolutional model.\"> -->\n",
    "<img src=\"https://storage.googleapis.com/kaggle-media/learn/images/Vko6nCK.png\" width=\"250\" alt=\"Diagram of a convolutional model.\">\n",
    "</figure>\n",
    "\n",
    "# 1) Define Model #\n",
    "\n",
    "Given the diagram above, complete the model by defining the layers of the third block."
   ]
  },
  {
   "cell_type": "code",
   "execution_count": null,
   "metadata": {
    "execution": {
     "iopub.execute_input": "2025-06-20T03:06:05.746065Z",
     "iopub.status.busy": "2025-06-20T03:06:05.745492Z",
     "iopub.status.idle": "2025-06-20T03:06:06.014801Z",
     "shell.execute_reply": "2025-06-20T03:06:06.014053Z",
     "shell.execute_reply.started": "2025-06-20T03:06:05.746032Z"
    },
    "lines_to_next_cell": 0,
    "trusted": true
   },
   "outputs": [
    {
     "data": {
      "application/javascript": "parent.postMessage({\"jupyterEvent\": \"custom.exercise_interaction\", \"data\": {\"outcomeType\": 1, \"valueTowardsCompletion\": 0.3333333333333333, \"interactionType\": 1, \"questionType\": 2, \"questionId\": \"1_Q1\", \"learnToolsVersion\": \"0.3.4\", \"failureMessage\": \"\", \"exceptionClass\": \"\", \"trace\": \"\"}}, \"*\")",
      "text/plain": [
       "<IPython.core.display.Javascript object>"
      ]
     },
     "metadata": {},
     "output_type": "display_data"
    },
    {
     "data": {
      "text/markdown": [
       "<span style=\"color:#33cc33\">Correct</span>"
      ],
      "text/plain": [
       "Correct"
      ]
     },
     "metadata": {},
     "output_type": "display_data"
    }
   ],
   "source": [
    "from tensorflow import keras\n",
    "from tensorflow.keras import layers\n",
    "\n",
    "model = keras.Sequential([\n",
    "    # Block One\n",
    "    layers.Conv2D(filters=32, kernel_size=3, activation='relu', padding='same',\n",
    "                  input_shape=[128, 128, 3]),\n",
    "    layers.MaxPool2D(),\n",
    "\n",
    "    # Block Two\n",
    "    layers.Conv2D(filters=64, kernel_size=3, activation='relu', padding='same'),\n",
    "    layers.MaxPool2D(),\n",
    "\n",
    "    # Block Three\n",
    "    # YOUR CODE HERE\n",
    "    layers.Conv2D(filters=128, kernel_size=3, activation='relu', padding='same'),\n",
    "    layers.Conv2D(filters=128, kernel_size=3, activation='relu', padding='same'),\n",
    "    layers.MaxPool2D(),\n",
    "\n",
    "    # Head\n",
    "    layers.Flatten(),\n",
    "    layers.Dense(6, activation='relu'),\n",
    "    layers.Dropout(0.2),\n",
    "    layers.Dense(1, activation='sigmoid'),\n",
    "])\n",
    "\n",
    "# 檢查\n",
    "q_1.check()"
   ]
  },
  {
   "cell_type": "markdown",
   "metadata": {},
   "source": [
    "# 2) Compile #\n",
    "\n",
    "To prepare for training, compile the model with an appropriate loss and accuracy metric for the \"Car or Truck\" dataset."
   ]
  },
  {
   "cell_type": "code",
   "execution_count": null,
   "metadata": {
    "execution": {
     "iopub.execute_input": "2025-06-20T03:07:17.223394Z",
     "iopub.status.busy": "2025-06-20T03:07:17.223069Z",
     "iopub.status.idle": "2025-06-20T03:07:17.244671Z",
     "shell.execute_reply": "2025-06-20T03:07:17.243765Z",
     "shell.execute_reply.started": "2025-06-20T03:07:17.223368Z"
    },
    "lines_to_next_cell": 0,
    "trusted": true
   },
   "outputs": [
    {
     "data": {
      "application/javascript": "parent.postMessage({\"jupyterEvent\": \"custom.exercise_interaction\", \"data\": {\"outcomeType\": 1, \"valueTowardsCompletion\": 0.3333333333333333, \"interactionType\": 1, \"questionType\": 2, \"questionId\": \"2_Q2\", \"learnToolsVersion\": \"0.3.4\", \"failureMessage\": \"\", \"exceptionClass\": \"\", \"trace\": \"\"}}, \"*\")",
      "text/plain": [
       "<IPython.core.display.Javascript object>"
      ]
     },
     "metadata": {},
     "output_type": "display_data"
    },
    {
     "data": {
      "text/markdown": [
       "<span style=\"color:#33cc33\">Correct</span>"
      ],
      "text/plain": [
       "Correct"
      ]
     },
     "metadata": {},
     "output_type": "display_data"
    }
   ],
   "source": [
    "model.compile(\n",
    "    optimizer=tf.keras.optimizers.Adam(learning_rate=0.0001),\n",
    "    loss='binary_crossentropy',\n",
    "    metrics=['binary_accuracy'],\n",
    ")\n",
    "# 檢查\n",
    "q_2.check()"
   ]
  },
  {
   "cell_type": "code",
   "execution_count": 8,
   "metadata": {
    "execution": {
     "iopub.execute_input": "2025-06-20T03:07:19.944260Z",
     "iopub.status.busy": "2025-06-20T03:07:19.943938Z",
     "iopub.status.idle": "2025-06-20T03:07:19.957617Z",
     "shell.execute_reply": "2025-06-20T03:07:19.956886Z",
     "shell.execute_reply.started": "2025-06-20T03:07:19.944237Z"
    },
    "lines_to_next_cell": 0,
    "trusted": true
   },
   "outputs": [
    {
     "data": {
      "application/javascript": "parent.postMessage({\"jupyterEvent\": \"custom.exercise_interaction\", \"data\": {\"outcomeType\": 1, \"valueTowardsCompletion\": 0.3333333333333333, \"interactionType\": 1, \"questionType\": 2, \"questionId\": \"2_Q2\", \"learnToolsVersion\": \"0.3.4\", \"failureMessage\": \"\", \"exceptionClass\": \"\", \"trace\": \"\"}}, \"*\")",
      "text/plain": [
       "<IPython.core.display.Javascript object>"
      ]
     },
     "metadata": {},
     "output_type": "display_data"
    },
    {
     "data": {
      "text/markdown": [
       "<span style=\"color:#33cc33\">Correct</span>"
      ],
      "text/plain": [
       "Correct"
      ]
     },
     "metadata": {},
     "output_type": "display_data"
    }
   ],
   "source": [
    "model.compile(\n",
    "    optimizer=tf.keras.optimizers.Adam(epsilon=0.01),\n",
    "    loss='binary_crossentropy',\n",
    "    metrics=['binary_accuracy'],\n",
    ")\n",
    "q_2.assert_check_passed()"
   ]
  },
  {
   "cell_type": "markdown",
   "metadata": {},
   "source": [
    "Finally, let's test the performance of this new model. First run this cell to fit the model to the training set."
   ]
  },
  {
   "cell_type": "code",
   "execution_count": 11,
   "metadata": {
    "execution": {
     "iopub.execute_input": "2025-06-20T03:07:40.559600Z",
     "iopub.status.busy": "2025-06-20T03:07:40.559270Z",
     "iopub.status.idle": "2025-06-20T03:10:38.613567Z",
     "shell.execute_reply": "2025-06-20T03:10:38.612769Z",
     "shell.execute_reply.started": "2025-06-20T03:07:40.559574Z"
    },
    "trusted": true
   },
   "outputs": [
    {
     "name": "stdout",
     "output_type": "stream",
     "text": [
      "Epoch 1/50\n"
     ]
    },
    {
     "name": "stderr",
     "output_type": "stream",
     "text": [
      "WARNING: All log messages before absl::InitializeLog() is called are written to STDERR\n",
      "I0000 00:00:1750388864.823733     102 device_compiler.h:186] Compiled cluster using XLA!  This line is logged at most once for the lifetime of the process.\n"
     ]
    },
    {
     "name": "stdout",
     "output_type": "stream",
     "text": [
      "80/80 [==============================] - 18s 163ms/step - loss: 0.6751 - binary_accuracy: 0.5652 - val_loss: 0.6602 - val_binary_accuracy: 0.5858\n",
      "Epoch 2/50\n",
      "80/80 [==============================] - 3s 41ms/step - loss: 0.6638 - binary_accuracy: 0.5951 - val_loss: 0.6530 - val_binary_accuracy: 0.6118\n",
      "Epoch 3/50\n",
      "80/80 [==============================] - 3s 41ms/step - loss: 0.6584 - binary_accuracy: 0.5929 - val_loss: 0.6476 - val_binary_accuracy: 0.6155\n",
      "Epoch 4/50\n",
      "80/80 [==============================] - 3s 41ms/step - loss: 0.6578 - binary_accuracy: 0.5968 - val_loss: 0.6689 - val_binary_accuracy: 0.6135\n",
      "Epoch 5/50\n",
      "80/80 [==============================] - 3s 41ms/step - loss: 0.6518 - binary_accuracy: 0.6164 - val_loss: 0.6389 - val_binary_accuracy: 0.6399\n",
      "Epoch 6/50\n",
      "80/80 [==============================] - 3s 41ms/step - loss: 0.6371 - binary_accuracy: 0.6398 - val_loss: 0.6324 - val_binary_accuracy: 0.6244\n",
      "Epoch 7/50\n",
      "80/80 [==============================] - 3s 41ms/step - loss: 0.6316 - binary_accuracy: 0.6355 - val_loss: 0.6216 - val_binary_accuracy: 0.6460\n",
      "Epoch 8/50\n",
      "80/80 [==============================] - 3s 41ms/step - loss: 0.6209 - binary_accuracy: 0.6478 - val_loss: 0.6083 - val_binary_accuracy: 0.6642\n",
      "Epoch 9/50\n",
      "80/80 [==============================] - 3s 41ms/step - loss: 0.6072 - binary_accuracy: 0.6600 - val_loss: 0.6045 - val_binary_accuracy: 0.6642\n",
      "Epoch 10/50\n",
      "80/80 [==============================] - 3s 41ms/step - loss: 0.5905 - binary_accuracy: 0.6871 - val_loss: 0.5822 - val_binary_accuracy: 0.6955\n",
      "Epoch 11/50\n",
      "80/80 [==============================] - 3s 41ms/step - loss: 0.5772 - binary_accuracy: 0.7000 - val_loss: 0.5666 - val_binary_accuracy: 0.7038\n",
      "Epoch 12/50\n",
      "80/80 [==============================] - 3s 41ms/step - loss: 0.5520 - binary_accuracy: 0.7217 - val_loss: 0.5491 - val_binary_accuracy: 0.7139\n",
      "Epoch 13/50\n",
      "80/80 [==============================] - 3s 41ms/step - loss: 0.5319 - binary_accuracy: 0.7362 - val_loss: 0.5285 - val_binary_accuracy: 0.7307\n",
      "Epoch 14/50\n",
      "80/80 [==============================] - 3s 41ms/step - loss: 0.5025 - binary_accuracy: 0.7594 - val_loss: 0.5001 - val_binary_accuracy: 0.7565\n",
      "Epoch 15/50\n",
      "80/80 [==============================] - 3s 41ms/step - loss: 0.4784 - binary_accuracy: 0.7714 - val_loss: 0.4954 - val_binary_accuracy: 0.7581\n",
      "Epoch 16/50\n",
      "80/80 [==============================] - 3s 41ms/step - loss: 0.4498 - binary_accuracy: 0.7876 - val_loss: 0.4700 - val_binary_accuracy: 0.7824\n",
      "Epoch 17/50\n",
      "80/80 [==============================] - 3s 41ms/step - loss: 0.4221 - binary_accuracy: 0.8014 - val_loss: 0.4473 - val_binary_accuracy: 0.7979\n",
      "Epoch 18/50\n",
      "80/80 [==============================] - 3s 41ms/step - loss: 0.3983 - binary_accuracy: 0.8186 - val_loss: 0.4437 - val_binary_accuracy: 0.7967\n",
      "Epoch 19/50\n",
      "80/80 [==============================] - 3s 41ms/step - loss: 0.3678 - binary_accuracy: 0.8376 - val_loss: 0.4395 - val_binary_accuracy: 0.8050\n",
      "Epoch 20/50\n",
      "80/80 [==============================] - 3s 41ms/step - loss: 0.3428 - binary_accuracy: 0.8472 - val_loss: 0.4123 - val_binary_accuracy: 0.8171\n",
      "Epoch 21/50\n",
      "80/80 [==============================] - 3s 41ms/step - loss: 0.3212 - binary_accuracy: 0.8536 - val_loss: 0.4537 - val_binary_accuracy: 0.8010\n",
      "Epoch 22/50\n",
      "80/80 [==============================] - 3s 41ms/step - loss: 0.3076 - binary_accuracy: 0.8585 - val_loss: 0.4966 - val_binary_accuracy: 0.7777\n",
      "Epoch 23/50\n",
      "80/80 [==============================] - 3s 41ms/step - loss: 0.2842 - binary_accuracy: 0.8710 - val_loss: 0.4886 - val_binary_accuracy: 0.7967\n",
      "Epoch 24/50\n",
      "80/80 [==============================] - 3s 41ms/step - loss: 0.2779 - binary_accuracy: 0.8759 - val_loss: 0.4176 - val_binary_accuracy: 0.8210\n",
      "Epoch 25/50\n",
      "80/80 [==============================] - 3s 41ms/step - loss: 0.2658 - binary_accuracy: 0.8763 - val_loss: 0.4141 - val_binary_accuracy: 0.8291\n",
      "Epoch 26/50\n",
      "80/80 [==============================] - 3s 41ms/step - loss: 0.2597 - binary_accuracy: 0.8839 - val_loss: 0.4126 - val_binary_accuracy: 0.8315\n",
      "Epoch 27/50\n",
      "80/80 [==============================] - 3s 41ms/step - loss: 0.2210 - binary_accuracy: 0.9007 - val_loss: 0.4130 - val_binary_accuracy: 0.8353\n",
      "Epoch 28/50\n",
      "80/80 [==============================] - 3s 41ms/step - loss: 0.1977 - binary_accuracy: 0.9042 - val_loss: 0.4235 - val_binary_accuracy: 0.8339\n",
      "Epoch 29/50\n",
      "80/80 [==============================] - 3s 41ms/step - loss: 0.1811 - binary_accuracy: 0.9144 - val_loss: 0.4838 - val_binary_accuracy: 0.8234\n",
      "Epoch 30/50\n",
      "80/80 [==============================] - 3s 41ms/step - loss: 0.1771 - binary_accuracy: 0.9134 - val_loss: 0.6117 - val_binary_accuracy: 0.8086\n",
      "Epoch 31/50\n",
      "80/80 [==============================] - 3s 41ms/step - loss: 0.1541 - binary_accuracy: 0.9199 - val_loss: 0.6420 - val_binary_accuracy: 0.8004\n",
      "Epoch 32/50\n",
      "80/80 [==============================] - 3s 41ms/step - loss: 0.1603 - binary_accuracy: 0.9220 - val_loss: 0.7120 - val_binary_accuracy: 0.7925\n",
      "Epoch 33/50\n",
      "80/80 [==============================] - 3s 41ms/step - loss: 0.1481 - binary_accuracy: 0.9300 - val_loss: 0.7845 - val_binary_accuracy: 0.7917\n",
      "Epoch 34/50\n",
      "80/80 [==============================] - 3s 41ms/step - loss: 0.1367 - binary_accuracy: 0.9304 - val_loss: 0.7805 - val_binary_accuracy: 0.7870\n",
      "Epoch 35/50\n",
      "80/80 [==============================] - 3s 41ms/step - loss: 0.1480 - binary_accuracy: 0.9283 - val_loss: 0.4942 - val_binary_accuracy: 0.8375\n",
      "Epoch 36/50\n",
      "80/80 [==============================] - 3s 41ms/step - loss: 0.1528 - binary_accuracy: 0.9248 - val_loss: 0.4781 - val_binary_accuracy: 0.8521\n",
      "Epoch 37/50\n",
      "80/80 [==============================] - 3s 41ms/step - loss: 0.1311 - binary_accuracy: 0.9322 - val_loss: 0.4945 - val_binary_accuracy: 0.8400\n",
      "Epoch 38/50\n",
      "80/80 [==============================] - 3s 41ms/step - loss: 0.1164 - binary_accuracy: 0.9423 - val_loss: 0.5685 - val_binary_accuracy: 0.8313\n",
      "Epoch 39/50\n",
      "80/80 [==============================] - 3s 41ms/step - loss: 0.1100 - binary_accuracy: 0.9451 - val_loss: 0.5992 - val_binary_accuracy: 0.8188\n",
      "Epoch 40/50\n",
      "80/80 [==============================] - 3s 41ms/step - loss: 0.1015 - binary_accuracy: 0.9482 - val_loss: 0.6421 - val_binary_accuracy: 0.8000\n",
      "Epoch 41/50\n",
      "80/80 [==============================] - 3s 41ms/step - loss: 0.1029 - binary_accuracy: 0.9527 - val_loss: 0.7120 - val_binary_accuracy: 0.8169\n",
      "Epoch 42/50\n",
      "80/80 [==============================] - 3s 41ms/step - loss: 0.0960 - binary_accuracy: 0.9547 - val_loss: 0.5263 - val_binary_accuracy: 0.8539\n",
      "Epoch 43/50\n",
      "80/80 [==============================] - 3s 41ms/step - loss: 0.0914 - binary_accuracy: 0.9552 - val_loss: 0.5960 - val_binary_accuracy: 0.8519\n",
      "Epoch 44/50\n",
      "80/80 [==============================] - 3s 41ms/step - loss: 0.0795 - binary_accuracy: 0.9574 - val_loss: 0.5930 - val_binary_accuracy: 0.8394\n",
      "Epoch 45/50\n",
      "80/80 [==============================] - 3s 41ms/step - loss: 0.0755 - binary_accuracy: 0.9597 - val_loss: 0.6874 - val_binary_accuracy: 0.8422\n",
      "Epoch 46/50\n",
      "80/80 [==============================] - 3s 41ms/step - loss: 0.0651 - binary_accuracy: 0.9646 - val_loss: 0.6672 - val_binary_accuracy: 0.8533\n",
      "Epoch 47/50\n",
      "80/80 [==============================] - 3s 41ms/step - loss: 0.0574 - binary_accuracy: 0.9685 - val_loss: 0.7208 - val_binary_accuracy: 0.8489\n",
      "Epoch 48/50\n",
      "80/80 [==============================] - 3s 41ms/step - loss: 0.0473 - binary_accuracy: 0.9726 - val_loss: 0.6502 - val_binary_accuracy: 0.8533\n",
      "Epoch 49/50\n",
      "80/80 [==============================] - 3s 41ms/step - loss: 0.0507 - binary_accuracy: 0.9711 - val_loss: 0.7665 - val_binary_accuracy: 0.8521\n",
      "Epoch 50/50\n",
      "80/80 [==============================] - 3s 41ms/step - loss: 0.0463 - binary_accuracy: 0.9752 - val_loss: 0.7835 - val_binary_accuracy: 0.8529\n"
     ]
    }
   ],
   "source": [
    "history = model.fit(\n",
    "    ds_train,\n",
    "    validation_data=ds_valid,\n",
    "    epochs=50,\n",
    ")"
   ]
  },
  {
   "cell_type": "markdown",
   "metadata": {},
   "source": [
    "And now run the cell below to plot the loss and metric curves for this training run."
   ]
  },
  {
   "cell_type": "code",
   "execution_count": 12,
   "metadata": {
    "execution": {
     "iopub.execute_input": "2025-06-20T03:11:24.083869Z",
     "iopub.status.busy": "2025-06-20T03:11:24.083061Z",
     "iopub.status.idle": "2025-06-20T03:11:24.587624Z",
     "shell.execute_reply": "2025-06-20T03:11:24.586866Z",
     "shell.execute_reply.started": "2025-06-20T03:11:24.083828Z"
    },
    "trusted": true
   },
   "outputs": [
    {
     "data": {
      "image/png": "[encoded data removed]",
      "text/plain": [
       "<Figure size 640x480 with 1 Axes>"
      ]
     },
     "metadata": {},
     "output_type": "display_data"
    },
    {
     "data": {
      "image/png": "[encoded data removed]",
      "text/plain": [
       "<Figure size 640x480 with 1 Axes>"
      ]
     },
     "metadata": {},
     "output_type": "display_data"
    }
   ],
   "source": [
    "import pandas as pd\n",
    "history_frame = pd.DataFrame(history.history)\n",
    "history_frame.loc[:, ['loss', 'val_loss']].plot()\n",
    "history_frame.loc[:, ['binary_accuracy', 'val_binary_accuracy']].plot();"
   ]
  },
  {
   "cell_type": "markdown",
   "metadata": {},
   "source": [
    "# 3) Train the Model #\n",
    "\n",
    "How would you interpret these training curves? Did this model improve upon the model from the tutorial?"
   ]
  },
  {
   "cell_type": "code",
   "execution_count": null,
   "metadata": {
    "execution": {
     "iopub.execute_input": "2025-06-20T03:11:30.497546Z",
     "iopub.status.busy": "2025-06-20T03:11:30.496973Z",
     "iopub.status.idle": "2025-06-20T03:11:30.504569Z",
     "shell.execute_reply": "2025-06-20T03:11:30.503739Z",
     "shell.execute_reply.started": "2025-06-20T03:11:30.497522Z"
    },
    "lines_to_next_cell": 0,
    "trusted": true
   },
   "outputs": [
    {
     "data": {
      "application/javascript": "parent.postMessage({\"jupyterEvent\": \"custom.exercise_interaction\", \"data\": {\"outcomeType\": 1, \"valueTowardsCompletion\": 0.3333333333333333, \"interactionType\": 1, \"questionType\": 4, \"questionId\": \"3_Q3\", \"learnToolsVersion\": \"0.3.4\", \"failureMessage\": \"\", \"exceptionClass\": \"\", \"trace\": \"\"}}, \"*\")",
      "text/plain": [
       "<IPython.core.display.Javascript object>"
      ]
     },
     "metadata": {},
     "output_type": "display_data"
    },
    {
     "data": {
      "text/markdown": [
       "<span style=\"color:#33cc33\">Correct:</span> \n",
       "\n",
       "\n",
       "The learning curves for the model from the tutorial diverged fairly rapidly. This would indicate that it was prone to overfitting and in need of some regularization. The additional layer in our new model would make it even more prone to overfitting. However, adding some regularization with the `Dropout` layer helped prevent this. These changes improved the validation accuracy of the model by several points.\n"
      ],
      "text/plain": [
       "Correct: \n",
       "\n",
       "\n",
       "The learning curves for the model from the tutorial diverged fairly rapidly. This would indicate that it was prone to overfitting and in need of some regularization. The additional layer in our new model would make it even more prone to overfitting. However, adding some regularization with the `Dropout` layer helped prevent this. These changes improved the validation accuracy of the model by several points."
      ]
     },
     "metadata": {},
     "output_type": "display_data"
    }
   ],
   "source": [
    "# 查看解決方案\n",
    "q_3.check()"
   ]
  },
  {
   "cell_type": "markdown",
   "metadata": {},
   "source": [
    "# Conclusion #\n",
    "\n",
    "These exercises showed you how to design a custom convolutional network to solve a specific classification problem. Though most models these days will be built on top of a pretrained base, it certain circumstances a smaller custom convnet might still be preferable -- such as with a smaller or unusual dataset or when computing resources are very limited. As you saw here, for certain problems they can perform just as well as a pretrained model.\n",
    "\n",
    "# Keep Going #\n",
    "\n",
    "Continue on to [**Lesson 6**](https://www.kaggle.com/ryanholbrook/data-augmentation), where you'll learn a widely-used technique that can give a boost to your training data: **data augmentation**."
   ]
  },
  {
   "cell_type": "markdown",
   "metadata": {},
   "source": [
    "---\n",
    "\n",
    "\n",
    "\n",
    "\n",
    "*Have questions or comments? Visit the [course discussion forum](https://www.kaggle.com/learn/computer-vision/discussion) to chat with other learners.*"
   ]
  }
 ],
 "metadata": {
  "jupytext": {
   "formats": "md,ipynb"
  },
  "kaggle": {
   "accelerator": "gpu",
   "dataSources": [
    {
     "datasetId": 708136,
     "sourceId": 1338830,
     "sourceType": "datasetVersion"
    },
    {
     "datasetId": 701538,
     "sourceId": 1363948,
     "sourceType": "datasetVersion"
    },
    {
     "datasetId": 878523,
     "sourceId": 1495782,
     "sourceType": "datasetVersion"
    }
   ],
   "dockerImageVersionId": 30648,
   "isGpuEnabled": true,
   "isInternetEnabled": false,
   "language": "python",
   "sourceType": "notebook"
  },
  "kernelspec": {
   "display_name": "Python 3",
   "language": "python",
   "name": "python3"
  },
  "language_info": {
   "codemirror_mode": {
    "name": "ipython",
    "version": 3
   },
   "file_extension": ".py",
   "mimetype": "text/x-python",
   "name": "python",
   "nbconvert_exporter": "python",
   "pygments_lexer": "ipython3",
   "version": "3.10.13"
  }
 },
 "nbformat": 4,
 "nbformat_minor": 4
}
